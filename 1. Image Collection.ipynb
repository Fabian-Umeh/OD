{
 "cells": [
  {
   "cell_type": "markdown",
   "metadata": {},
   "source": [
    "# 1. Import Dependencies"
   ]
  },
  {
   "cell_type": "code",
   "execution_count": 1,
   "metadata": {},
   "outputs": [
    {
     "name": "stdout",
     "output_type": "stream",
     "text": [
      "Collecting opencv-python\n",
      "  Downloading opencv_python-4.6.0.66-cp36-abi3-win_amd64.whl (35.6 MB)\n",
      "     ---------------------------------------- 35.6/35.6 MB 3.8 MB/s eta 0:00:00\n",
      "Collecting numpy>=1.14.5\n",
      "  Downloading numpy-1.23.2-cp39-cp39-win_amd64.whl (14.7 MB)\n",
      "     --------------------------------------- 14.7/14.7 MB 10.5 MB/s eta 0:00:00\n",
      "Installing collected packages: numpy, opencv-python\n",
      "Successfully installed numpy-1.23.2 opencv-python-4.6.0.66\n"
     ]
    }
   ],
   "source": [
    "!pip install opencv-python"
   ]
  },
  {
   "cell_type": "code",
   "execution_count": 3,
   "metadata": {},
   "outputs": [],
   "source": [
    "# Import opencv\n",
    "import cv2 \n",
    "\n",
    "# Import uuid\n",
    "import uuid\n",
    "\n",
    "# Import Operating System\n",
    "import os\n",
    "\n",
    "# Import time\n",
    "import time"
   ]
  },
  {
   "cell_type": "markdown",
   "metadata": {},
   "source": [
    "# 2. Define Images to Collect"
   ]
  },
  {
   "cell_type": "code",
   "execution_count": 8,
   "metadata": {},
   "outputs": [],
   "source": [
    "labels = ['thumbsup', 'thumbsdown', 'thankyou', 'livelong']\n",
    "number_imgs = 5"
   ]
  },
  {
   "cell_type": "markdown",
   "metadata": {},
   "source": [
    "# 3. Setup Folders "
   ]
  },
  {
   "cell_type": "code",
   "execution_count": 6,
   "metadata": {},
   "outputs": [],
   "source": [
    "IMAGES_PATH = os.path.join('Tensorflow', 'workspace', 'images', 'collectedimages')"
   ]
  },
  {
   "cell_type": "code",
   "execution_count": 9,
   "metadata": {},
   "outputs": [],
   "source": [
    "if not os.path.exists(IMAGES_PATH):\n",
    "    if os.name == 'posix':\n",
    "        !mkdir -p {IMAGES_PATH}\n",
    "    if os.name == 'nt':\n",
    "         !mkdir {IMAGES_PATH}\n",
    "for label in labels:\n",
    "    path = os.path.join(IMAGES_PATH, label)\n",
    "    if not os.path.exists(path):\n",
    "        !mkdir {path}"
   ]
  },
  {
   "cell_type": "markdown",
   "metadata": {},
   "source": [
    "# 4. Capture Images"
   ]
  },
  {
   "cell_type": "code",
   "execution_count": 7,
   "metadata": {},
   "outputs": [
    {
     "name": "stdout",
     "output_type": "stream",
     "text": [
      "Collecting images for thumbsup\n",
      "Collecting image 0\n",
      "Collecting image 1\n",
      "Collecting image 2\n",
      "Collecting image 3\n",
      "Collecting image 4\n",
      "Collecting images for thumbsdown\n",
      "Collecting image 0\n",
      "Collecting image 1\n",
      "Collecting image 2\n",
      "Collecting image 3\n",
      "Collecting image 4\n",
      "Collecting images for thankyou\n",
      "Collecting image 0\n",
      "Collecting image 1\n",
      "Collecting image 2\n",
      "Collecting image 3\n",
      "Collecting image 4\n",
      "Collecting images for livelong\n",
      "Collecting image 0\n",
      "Collecting image 1\n",
      "Collecting image 2\n",
      "Collecting image 3\n",
      "Collecting image 4\n"
     ]
    }
   ],
   "source": [
    "for label in labels:\n",
    "    cap = cv2.VideoCapture(0)\n",
    "    print('Collecting images for {}'.format(label))\n",
    "    time.sleep(5)\n",
    "    for imgnum in range(number_imgs):\n",
    "        print('Collecting image {}'.format(imgnum))\n",
    "        ret, frame = cap.read()\n",
    "        imgname = os.path.join(IMAGES_PATH,label,label+'.'+'{}.jpg'.format(str(uuid.uuid1())))\n",
    "        cv2.imwrite(imgname, frame)\n",
    "        cv2.imshow('frame', frame)\n",
    "        time.sleep(2)\n",
    "\n",
    "        if cv2.waitKey(1) & 0xFF == ord('q'):\n",
    "            break\n",
    "cap.release()\n",
    "cv2.destroyAllWindows()"
   ]
  },
  {
   "cell_type": "markdown",
   "metadata": {},
   "source": [
    "# 5. Image Labelling"
   ]
  },
  {
   "cell_type": "code",
   "execution_count": 8,
   "metadata": {},
   "outputs": [
    {
     "name": "stdout",
     "output_type": "stream",
     "text": [
      "Collecting pyqt5\n",
      "  Downloading PyQt5-5.15.7-cp37-abi3-win_amd64.whl (6.8 MB)\n",
      "     ---------------------------------------- 6.8/6.8 MB 4.4 MB/s eta 0:00:00\n",
      "Requirement already satisfied: lxml in c:\\users\\fabian\\tensorflow object detection\\tfodcourse\\tfod\\lib\\site-packages (4.9.1)\n",
      "Collecting PyQt5-sip<13,>=12.11\n",
      "  Downloading PyQt5_sip-12.11.0-cp39-cp39-win_amd64.whl (78 kB)\n",
      "     -------------------------------------- 78.3/78.3 kB 395.7 kB/s eta 0:00:00\n",
      "Collecting PyQt5-Qt5>=5.15.0\n",
      "  Downloading PyQt5_Qt5-5.15.2-py3-none-win_amd64.whl (50.1 MB)\n",
      "     ---------------------------------------- 50.1/50.1 MB 3.4 MB/s eta 0:00:00\n",
      "Installing collected packages: PyQt5-Qt5, PyQt5-sip, pyqt5\n",
      "Successfully installed PyQt5-Qt5-5.15.2 PyQt5-sip-12.11.0 pyqt5-5.15.7\n"
     ]
    }
   ],
   "source": [
    "!pip install --upgrade pyqt5 lxml"
   ]
  },
  {
   "cell_type": "code",
   "execution_count": 9,
   "metadata": {},
   "outputs": [],
   "source": [
    "LABELIMG_PATH = os.path.join('Tensorflow', 'labelimg')"
   ]
  },
  {
   "cell_type": "code",
   "execution_count": 10,
   "metadata": {},
   "outputs": [
    {
     "name": "stderr",
     "output_type": "stream",
     "text": [
      "Cloning into 'Tensorflow\\labelimg'...\n"
     ]
    }
   ],
   "source": [
    "if not os.path.exists(LABELIMG_PATH):\n",
    "    !mkdir {LABELIMG_PATH}\n",
    "    !git clone https://github.com/tzutalin/labelImg {LABELIMG_PATH}"
   ]
  },
  {
   "cell_type": "code",
   "execution_count": 11,
   "metadata": {},
   "outputs": [],
   "source": [
    "if os.name == 'posix':\n",
    "    !make qt5py3\n",
    "if os.name =='nt':\n",
    "    !cd {LABELIMG_PATH} && pyrcc5 -o libs/resources.py resources.qrc"
   ]
  },
  {
   "cell_type": "code",
   "execution_count": 12,
   "metadata": {},
   "outputs": [
    {
     "name": "stdout",
     "output_type": "stream",
     "text": [
      "Image:C:\\Users\\fabian\\Tensorflow Object Detection\\TFODCourse\\Tensorflow\\workspace\\images\\collectedimages\\livelong\\livelong.7c7d6770-2525-11ed-ac6f-14feb5a37e83.jpg -> Annotation:C:/Users/fabian/Tensorflow Object Detection/TFODCourse/Tensorflow/workspace/images/collectedimages/livelong\\livelong.7c7d6770-2525-11ed-ac6f-14feb5a37e83.xml\n",
      "Image:C:\\Users\\fabian\\Tensorflow Object Detection\\TFODCourse\\Tensorflow\\workspace\\images\\collectedimages\\livelong\\livelong.7db2dfb2-2525-11ed-8a2d-14feb5a37e83.jpg -> Annotation:C:/Users/fabian/Tensorflow Object Detection/TFODCourse/Tensorflow/workspace/images/collectedimages/livelong\\livelong.7db2dfb2-2525-11ed-8a2d-14feb5a37e83.xml\n",
      "Image:C:\\Users\\fabian\\Tensorflow Object Detection\\TFODCourse\\Tensorflow\\workspace\\images\\collectedimages\\livelong\\livelong.7eec2cbd-2525-11ed-bebe-14feb5a37e83.jpg -> Annotation:C:/Users/fabian/Tensorflow Object Detection/TFODCourse/Tensorflow/workspace/images/collectedimages/livelong\\livelong.7eec2cbd-2525-11ed-bebe-14feb5a37e83.xml\n",
      "Image:C:\\Users\\fabian\\Tensorflow Object Detection\\TFODCourse\\Tensorflow\\workspace\\images\\collectedimages\\livelong\\livelong.8021ca1c-2525-11ed-a43d-14feb5a37e83.jpg -> Annotation:C:/Users/fabian/Tensorflow Object Detection/TFODCourse/Tensorflow/workspace/images/collectedimages/livelong\\livelong.8021ca1c-2525-11ed-a43d-14feb5a37e83.xml\n",
      "Image:C:\\Users\\fabian\\Tensorflow Object Detection\\TFODCourse\\Tensorflow\\workspace\\images\\collectedimages\\livelong\\livelong.d8c24550-2525-11ed-a312-14feb5a37e83.jpg -> Annotation:C:/Users/fabian/Tensorflow Object Detection/TFODCourse/Tensorflow/workspace/images/collectedimages/livelong\\livelong.d8c24550-2525-11ed-a312-14feb5a37e83.xml\n",
      "Image:C:\\Users\\fabian\\Tensorflow Object Detection\\TFODCourse\\Tensorflow\\workspace\\images\\collectedimages\\livelong\\livelong.d9f8bbdc-2525-11ed-ba7f-14feb5a37e83.jpg -> Annotation:C:/Users/fabian/Tensorflow Object Detection/TFODCourse/Tensorflow/workspace/images/collectedimages/livelong\\livelong.d9f8bbdc-2525-11ed-ba7f-14feb5a37e83.xml\n",
      "Image:C:\\Users\\fabian\\Tensorflow Object Detection\\TFODCourse\\Tensorflow\\workspace\\images\\collectedimages\\livelong\\livelong.d75aa4eb-2525-11ed-93ab-14feb5a37e83.jpg -> Annotation:C:/Users/fabian/Tensorflow Object Detection/TFODCourse/Tensorflow/workspace/images/collectedimages/livelong\\livelong.d75aa4eb-2525-11ed-93ab-14feb5a37e83.xml\n",
      "Image:C:\\Users\\fabian\\Tensorflow Object Detection\\TFODCourse\\Tensorflow\\workspace\\images\\collectedimages\\livelong\\livelong.d622b4aa-2525-11ed-95b5-14feb5a37e83.jpg -> Annotation:C:/Users/fabian/Tensorflow Object Detection/TFODCourse/Tensorflow/workspace/images/collectedimages/livelong\\livelong.d622b4aa-2525-11ed-95b5-14feb5a37e83.xml\n",
      "Image:C:\\Users\\fabian\\Tensorflow Object Detection\\TFODCourse\\Tensorflow\\workspace\\images\\collectedimages\\thankyou\\thankyou.73d05665-2525-11ed-841d-14feb5a37e83.jpg -> Annotation:C:/Users/fabian/Tensorflow Object Detection/TFODCourse/Tensorflow/workspace/images/collectedimages/thankyou\\thankyou.73d05665-2525-11ed-841d-14feb5a37e83.xml\n",
      "Image:C:\\Users\\fabian\\Tensorflow Object Detection\\TFODCourse\\Tensorflow\\workspace\\images\\collectedimages\\thankyou\\thankyou.7299bb82-2525-11ed-9c5b-14feb5a37e83.jpg -> Annotation:C:/Users/fabian/Tensorflow Object Detection/TFODCourse/Tensorflow/workspace/images/collectedimages/thankyou\\thankyou.7299bb82-2525-11ed-9c5b-14feb5a37e83.xml\n",
      "Image:C:\\Users\\fabian\\Tensorflow Object Detection\\TFODCourse\\Tensorflow\\workspace\\images\\collectedimages\\thankyou\\thankyou.7521af8b-2525-11ed-9109-14feb5a37e83.jpg -> Annotation:C:/Users/fabian/Tensorflow Object Detection/TFODCourse/Tensorflow/workspace/images/collectedimages/thankyou\\thankyou.7521af8b-2525-11ed-9109-14feb5a37e83.xml\n",
      "Image:C:\\Users\\fabian\\Tensorflow Object Detection\\TFODCourse\\Tensorflow\\workspace\\images\\collectedimages\\thankyou\\thankyou.765758a9-2525-11ed-9df1-14feb5a37e83.jpg -> Annotation:C:/Users/fabian/Tensorflow Object Detection/TFODCourse/Tensorflow/workspace/images/collectedimages/thankyou\\thankyou.765758a9-2525-11ed-9df1-14feb5a37e83.xml\n",
      "Image:C:\\Users\\fabian\\Tensorflow Object Detection\\TFODCourse\\Tensorflow\\workspace\\images\\collectedimages\\thankyou\\thankyou.cc56228e-2525-11ed-9c66-14feb5a37e83.jpg -> Annotation:C:/Users/fabian/Tensorflow Object Detection/TFODCourse/Tensorflow/workspace/images/collectedimages/thankyou\\thankyou.cc56228e-2525-11ed-9c66-14feb5a37e83.xml\n",
      "Image:C:\\Users\\fabian\\Tensorflow Object Detection\\TFODCourse\\Tensorflow\\workspace\\images\\collectedimages\\thankyou\\thankyou.cd8c0937-2525-11ed-a91a-14feb5a37e83.jpg -> Annotation:C:/Users/fabian/Tensorflow Object Detection/TFODCourse/Tensorflow/workspace/images/collectedimages/thankyou\\thankyou.cd8c0937-2525-11ed-a91a-14feb5a37e83.xml\n",
      "Image:C:\\Users\\fabian\\Tensorflow Object Detection\\TFODCourse\\Tensorflow\\workspace\\images\\collectedimages\\thankyou\\thankyou.cec1d872-2525-11ed-8aac-14feb5a37e83.jpg -> Annotation:C:/Users/fabian/Tensorflow Object Detection/TFODCourse/Tensorflow/workspace/images/collectedimages/thankyou\\thankyou.cec1d872-2525-11ed-8aac-14feb5a37e83.xml\n",
      "Image:C:\\Users\\fabian\\Tensorflow Object Detection\\TFODCourse\\Tensorflow\\workspace\\images\\collectedimages\\thankyou\\thankyou.cff8be94-2525-11ed-8304-14feb5a37e83.jpg -> Annotation:C:/Users/fabian/Tensorflow Object Detection/TFODCourse/Tensorflow/workspace/images/collectedimages/thankyou\\thankyou.cff8be94-2525-11ed-8304-14feb5a37e83.xml\n",
      "Image:C:\\Users\\fabian\\Tensorflow Object Detection\\TFODCourse\\Tensorflow\\workspace\\images\\collectedimages\\thumbsdown\\thumbsdown.6b2acb9b-2525-11ed-ae3d-14feb5a37e83.jpg -> Annotation:C:/Users/fabian/Tensorflow Object Detection/TFODCourse/Tensorflow/workspace/images/collectedimages/thumbsdown\\thumbsdown.6b2acb9b-2525-11ed-ae3d-14feb5a37e83.xml\n",
      "Image:C:\\Users\\fabian\\Tensorflow Object Detection\\TFODCourse\\Tensorflow\\workspace\\images\\collectedimages\\thumbsdown\\thumbsdown.6c6329db-2525-11ed-9989-14feb5a37e83.jpg -> Annotation:C:/Users/fabian/Tensorflow Object Detection/TFODCourse/Tensorflow/workspace/images/collectedimages/thumbsdown\\thumbsdown.6c6329db-2525-11ed-9989-14feb5a37e83.xml\n",
      "Image:C:\\Users\\fabian\\Tensorflow Object Detection\\TFODCourse\\Tensorflow\\workspace\\images\\collectedimages\\thumbsdown\\thumbsdown.68befaea-2525-11ed-a446-14feb5a37e83.jpg -> Annotation:C:/Users/fabian/Tensorflow Object Detection/TFODCourse/Tensorflow/workspace/images/collectedimages/thumbsdown\\thumbsdown.68befaea-2525-11ed-a446-14feb5a37e83.xml\n",
      "Image:C:\\Users\\fabian\\Tensorflow Object Detection\\TFODCourse\\Tensorflow\\workspace\\images\\collectedimages\\thumbsdown\\thumbsdown.69f5a490-2525-11ed-8caf-14feb5a37e83.jpg -> Annotation:C:/Users/fabian/Tensorflow Object Detection/TFODCourse/Tensorflow/workspace/images/collectedimages/thumbsdown\\thumbsdown.69f5a490-2525-11ed-8caf-14feb5a37e83.xml\n",
      "Image:C:\\Users\\fabian\\Tensorflow Object Detection\\TFODCourse\\Tensorflow\\workspace\\images\\collectedimages\\thumbsdown\\thumbsdown.c3bef043-2525-11ed-83e3-14feb5a37e83.jpg -> Annotation:C:/Users/fabian/Tensorflow Object Detection/TFODCourse/Tensorflow/workspace/images/collectedimages/thumbsdown\\thumbsdown.c3bef043-2525-11ed-83e3-14feb5a37e83.xml\n",
      "Image:C:\\Users\\fabian\\Tensorflow Object Detection\\TFODCourse\\Tensorflow\\workspace\\images\\collectedimages\\thumbsdown\\thumbsdown.c4f3108f-2525-11ed-8bc1-14feb5a37e83.jpg -> Annotation:C:/Users/fabian/Tensorflow Object Detection/TFODCourse/Tensorflow/workspace/images/collectedimages/thumbsdown\\thumbsdown.c4f3108f-2525-11ed-8bc1-14feb5a37e83.xml\n",
      "Image:C:\\Users\\fabian\\Tensorflow Object Detection\\TFODCourse\\Tensorflow\\workspace\\images\\collectedimages\\thumbsdown\\thumbsdown.c6324cf4-2525-11ed-9a71-14feb5a37e83.jpg -> Annotation:C:/Users/fabian/Tensorflow Object Detection/TFODCourse/Tensorflow/workspace/images/collectedimages/thumbsdown\\thumbsdown.c6324cf4-2525-11ed-9a71-14feb5a37e83.xml\n",
      "Image:C:\\Users\\fabian\\Tensorflow Object Detection\\TFODCourse\\Tensorflow\\workspace\\images\\collectedimages\\thumbsdown\\thumbsdown.c2856662-2525-11ed-9e8d-14feb5a37e83.jpg -> Annotation:C:/Users/fabian/Tensorflow Object Detection/TFODCourse/Tensorflow/workspace/images/collectedimages/thumbsdown\\thumbsdown.c2856662-2525-11ed-9e8d-14feb5a37e83.xml\n",
      "Image:C:\\Users\\fabian\\Tensorflow Object Detection\\TFODCourse\\Tensorflow\\workspace\\images\\collectedimages\\thumbsup\\thumbsup.5edb077f-2525-11ed-8c0a-14feb5a37e83.jpg -> Annotation:C:/Users/fabian/Tensorflow Object Detection/TFODCourse/Tensorflow/workspace/images/collectedimages/thumbsup\\thumbsup.5edb077f-2525-11ed-8c0a-14feb5a37e83.xml\n",
      "Image:C:\\Users\\fabian\\Tensorflow Object Detection\\TFODCourse\\Tensorflow\\workspace\\images\\collectedimages\\thumbsup\\thumbsup.600ff4ea-2525-11ed-971f-14feb5a37e83.jpg -> Annotation:C:/Users/fabian/Tensorflow Object Detection/TFODCourse/Tensorflow/workspace/images/collectedimages/thumbsup\\thumbsup.600ff4ea-2525-11ed-971f-14feb5a37e83.xml\n",
      "Image:C:\\Users\\fabian\\Tensorflow Object Detection\\TFODCourse\\Tensorflow\\workspace\\images\\collectedimages\\thumbsup\\thumbsup.627fd283-2525-11ed-9596-14feb5a37e83.jpg -> Annotation:C:/Users/fabian/Tensorflow Object Detection/TFODCourse/Tensorflow/workspace/images/collectedimages/thumbsup\\thumbsup.627fd283-2525-11ed-9596-14feb5a37e83.xml\n",
      "Image:C:\\Users\\fabian\\Tensorflow Object Detection\\TFODCourse\\Tensorflow\\workspace\\images\\collectedimages\\thumbsup\\thumbsup.61482864-2525-11ed-a9f7-14feb5a37e83.jpg -> Annotation:C:/Users/fabian/Tensorflow Object Detection/TFODCourse/Tensorflow/workspace/images/collectedimages/thumbsup\\thumbsup.61482864-2525-11ed-a9f7-14feb5a37e83.xml\n",
      "Image:C:\\Users\\fabian\\Tensorflow Object Detection\\TFODCourse\\Tensorflow\\workspace\\images\\collectedimages\\thumbsup\\thumbsup.b9c93792-2525-11ed-b2d6-14feb5a37e83.jpg -> Annotation:C:/Users/fabian/Tensorflow Object Detection/TFODCourse/Tensorflow/workspace/images/collectedimages/thumbsup\\thumbsup.b9c93792-2525-11ed-b2d6-14feb5a37e83.xml\n",
      "Image:C:\\Users\\fabian\\Tensorflow Object Detection\\TFODCourse\\Tensorflow\\workspace\\images\\collectedimages\\thumbsup\\thumbsup.b891bdbe-2525-11ed-b3bb-14feb5a37e83.jpg -> Annotation:C:/Users/fabian/Tensorflow Object Detection/TFODCourse/Tensorflow/workspace/images/collectedimages/thumbsup\\thumbsup.b891bdbe-2525-11ed-b3bb-14feb5a37e83.xml\n",
      "Image:C:\\Users\\fabian\\Tensorflow Object Detection\\TFODCourse\\Tensorflow\\workspace\\images\\collectedimages\\thumbsup\\thumbsup.bb003d38-2525-11ed-b812-14feb5a37e83.jpg -> Annotation:C:/Users/fabian/Tensorflow Object Detection/TFODCourse/Tensorflow/workspace/images/collectedimages/thumbsup\\thumbsup.bb003d38-2525-11ed-b812-14feb5a37e83.xml\n",
      "Image:C:\\Users\\fabian\\Tensorflow Object Detection\\TFODCourse\\Tensorflow\\workspace\\images\\collectedimages\\thumbsup\\thumbsup.bc365c4c-2525-11ed-934b-14feb5a37e83.jpg -> Annotation:C:/Users/fabian/Tensorflow Object Detection/TFODCourse/Tensorflow/workspace/images/collectedimages/thumbsup\\thumbsup.bc365c4c-2525-11ed-934b-14feb5a37e83.xml\n",
      "Image:C:\\Users\\fabian\\Tensorflow Object Detection\\TFODCourse\\Tensorflow\\workspace\\images\\collectedimages\\thumbsdown\\thumbsdown.6b2acb9b-2525-11ed-ae3d-14feb5a37e83.jpg -> Annotation:C:/Users/fabian/Tensorflow Object Detection/TFODCourse/Tensorflow/workspace/images/collectedimages/thumbsdown\\thumbsdown.6b2acb9b-2525-11ed-ae3d-14feb5a37e83.xml\n",
      "Image:C:\\Users\\fabian\\Tensorflow Object Detection\\TFODCourse\\Tensorflow\\workspace\\images\\collectedimages\\thumbsdown\\thumbsdown.6c6329db-2525-11ed-9989-14feb5a37e83.jpg -> Annotation:C:/Users/fabian/Tensorflow Object Detection/TFODCourse/Tensorflow/workspace/images/collectedimages/thumbsdown\\thumbsdown.6c6329db-2525-11ed-9989-14feb5a37e83.xml\n",
      "Image:C:\\Users\\fabian\\Tensorflow Object Detection\\TFODCourse\\Tensorflow\\workspace\\images\\collectedimages\\thumbsdown\\thumbsdown.68befaea-2525-11ed-a446-14feb5a37e83.jpg -> Annotation:C:/Users/fabian/Tensorflow Object Detection/TFODCourse/Tensorflow/workspace/images/collectedimages/thumbsdown\\thumbsdown.68befaea-2525-11ed-a446-14feb5a37e83.xml\n",
      "Image:C:\\Users\\fabian\\Tensorflow Object Detection\\TFODCourse\\Tensorflow\\workspace\\images\\collectedimages\\thumbsdown\\thumbsdown.69f5a490-2525-11ed-8caf-14feb5a37e83.jpg -> Annotation:C:/Users/fabian/Tensorflow Object Detection/TFODCourse/Tensorflow/workspace/images/collectedimages/thumbsdown\\thumbsdown.69f5a490-2525-11ed-8caf-14feb5a37e83.xml\n",
      "Image:C:\\Users\\fabian\\Tensorflow Object Detection\\TFODCourse\\Tensorflow\\workspace\\images\\collectedimages\\thumbsdown\\thumbsdown.c3bef043-2525-11ed-83e3-14feb5a37e83.jpg -> Annotation:C:/Users/fabian/Tensorflow Object Detection/TFODCourse/Tensorflow/workspace/images/collectedimages/thumbsdown\\thumbsdown.c3bef043-2525-11ed-83e3-14feb5a37e83.xml\n",
      "Image:C:\\Users\\fabian\\Tensorflow Object Detection\\TFODCourse\\Tensorflow\\workspace\\images\\collectedimages\\thumbsdown\\thumbsdown.c4f3108f-2525-11ed-8bc1-14feb5a37e83.jpg -> Annotation:C:/Users/fabian/Tensorflow Object Detection/TFODCourse/Tensorflow/workspace/images/collectedimages/thumbsdown\\thumbsdown.c4f3108f-2525-11ed-8bc1-14feb5a37e83.xml\n",
      "Image:C:\\Users\\fabian\\Tensorflow Object Detection\\TFODCourse\\Tensorflow\\workspace\\images\\collectedimages\\thumbsdown\\thumbsdown.c6324cf4-2525-11ed-9a71-14feb5a37e83.jpg -> Annotation:C:/Users/fabian/Tensorflow Object Detection/TFODCourse/Tensorflow/workspace/images/collectedimages/thumbsdown\\thumbsdown.c6324cf4-2525-11ed-9a71-14feb5a37e83.xml\n",
      "Image:C:\\Users\\fabian\\Tensorflow Object Detection\\TFODCourse\\Tensorflow\\workspace\\images\\collectedimages\\thumbsdown\\thumbsdown.c2856662-2525-11ed-9e8d-14feb5a37e83.jpg -> Annotation:C:/Users/fabian/Tensorflow Object Detection/TFODCourse/Tensorflow/workspace/images/collectedimages/thumbsdown\\thumbsdown.c2856662-2525-11ed-9e8d-14feb5a37e83.xml\n"
     ]
    }
   ],
   "source": [
    "!cd {LABELIMG_PATH} && python labelImg.py"
   ]
  },
  {
   "cell_type": "markdown",
   "metadata": {},
   "source": [
    "# 6. Move them into a Training and Testing Partition"
   ]
  },
  {
   "cell_type": "markdown",
   "metadata": {},
   "source": [
    "# OPTIONAL - 7. Compress them for Colab Training"
   ]
  },
  {
   "cell_type": "code",
   "execution_count": 18,
   "metadata": {},
   "outputs": [],
   "source": [
    "TRAIN_PATH = os.path.join('Tensorflow', 'workspace', 'images', 'train')\n",
    "TEST_PATH = os.path.join('Tensorflow', 'workspace', 'images', 'test')\n",
    "ARCHIVE_PATH = os.path.join('Tensorflow', 'workspace', 'images', 'archive.tar.gz')"
   ]
  },
  {
   "cell_type": "code",
   "execution_count": 19,
   "metadata": {},
   "outputs": [],
   "source": [
    "!tar -czf {ARCHIVE_PATH} {TRAIN_PATH} {TEST_PATH}"
   ]
  },
  {
   "cell_type": "code",
   "execution_count": null,
   "metadata": {},
   "outputs": [],
   "source": []
  }
 ],
 "metadata": {
  "kernelspec": {
   "display_name": "TFOD",
   "language": "python",
   "name": "tfod"
  },
  "language_info": {
   "codemirror_mode": {
    "name": "ipython",
    "version": 3
   },
   "file_extension": ".py",
   "mimetype": "text/x-python",
   "name": "python",
   "nbconvert_exporter": "python",
   "pygments_lexer": "ipython3",
   "version": "3.9.6"
  }
 },
 "nbformat": 4,
 "nbformat_minor": 2
}
